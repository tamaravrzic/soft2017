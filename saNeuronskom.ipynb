{
 "cells": [
  {
   "cell_type": "code",
   "execution_count": 1,
   "metadata": {
    "collapsed": false
   },
   "outputs": [
    {
     "name": "stdout",
     "output_type": "stream",
     "text": [
      "sa\n"
     ]
    }
   ],
   "source": [
    "from __future__ import print_function\n",
    "#import potrebnih biblioteka\n",
    "import cv2\n",
    "import collections\n",
    "\n",
    "# keras\n",
    "from keras.models import Sequential\n",
    "from keras.layers.core import Dense,Activation\n",
    "from keras.optimizers import SGD\n",
    "\n",
    "#Sklearn biblioteka sa implementiranim K-means algoritmom\n",
    "from sklearn import datasets\n",
    "from sklearn.cluster import KMeans\n",
    "\n",
    "%matplotlib inline\n",
    "import numpy as np\n",
    "import matplotlib.pylab as plt\n",
    "plt.rcParams['figure.figsize'] = 16, 12 # za prikaz većih slika i plotova, zakomentarisati ako nije potrebno\n",
    "print('sa')"
   ]
  },
  {
   "cell_type": "code",
   "execution_count": 2,
   "metadata": {
    "collapsed": true
   },
   "outputs": [],
   "source": [
    "#Funkcionalnost implementirana u V1\n",
    "def load_image(path):\n",
    "    return cv2.cvtColor(cv2.imread(path), cv2.COLOR_BGR2RGB)\n",
    "def image_gray(image):\n",
    "    return cv2.cvtColor(image, cv2.COLOR_RGB2GRAY)\n",
    "def image_bin(image_gs):\n",
    "    ret,image_bin = cv2.threshold(image_gs, 127, 255, cv2.THRESH_BINARY)\n",
    "    return image_bin\n",
    "def invert(image):\n",
    "    return 255-image\n",
    "def display_image(image, color= False):\n",
    "    if color:\n",
    "        plt.imshow(image)\n",
    "    else:\n",
    "        plt.imshow(image, 'gray')\n",
    "def dilate(image):\n",
    "    kernel = np.ones((3,3)) # strukturni element 3x3 blok\n",
    "    return cv2.dilate(image, kernel, iterations=1)\n",
    "def erode(image):\n",
    "    kernel = np.ones((3,3)) # strukturni element 3x3 blok\n",
    "    return cv2.erode(image, kernel, iterations=1)\n",
    "\n",
    "#Funkcionalnost implementirana u OCR basic\n",
    "def resize_region(region):\n",
    "    resized = cv2.resize(region,(28,28), interpolation = cv2.INTER_NEAREST)\n",
    "    return resized\n",
    "def scale_to_range(image):\n",
    "    return image / 255\n",
    "def matrix_to_vector(image):\n",
    "    return image.flatten()\n",
    "def prepare_for_ann(regions):\n",
    "    ready_for_ann = []\n",
    "    for region in regions:\n",
    "        ready_for_ann.append(matrix_to_vector(scale_to_range(region)))\n",
    "    return ready_for_ann\n",
    "def convert_output(outputs):\n",
    "    return np.eye(len(outputs))\n",
    "def winner(output):\n",
    "    return max(enumerate(output), key=lambda x: x[1])[0]"
   ]
  },
  {
   "cell_type": "code",
   "execution_count": 3,
   "metadata": {
    "collapsed": true
   },
   "outputs": [],
   "source": [
    "def select_roi(image_orig, image_bin):\n",
    "    '''\n",
    "    Funkcija kao u vežbi 2, iscrtava pravougaonike na originalnoj slici, pronalazi sortiran niz regiona sa slike,\n",
    "    i dodatno treba da sačuva rastojanja između susednih regiona.\n",
    "    '''\n",
    "    img, contours, hierarchy = cv2.findContours(image_bin.copy(), cv2.RETR_EXTERNAL, cv2.CHAIN_APPROX_SIMPLE)\n",
    "    sorted_regions = []  # lista sortiranih regiona po x osi (sa leva na desno)\n",
    "    regions_dic = {}\n",
    "    x0, y0, w0, h0 = cv2.boundingRect(contours[0])  # koordinate i velicina granicnog pravougaonika\n",
    "\n",
    "    for contour in contours:\n",
    "        x, y, w, h = cv2.boundingRect(contour)  # koordinate i velicina granicnog pravougaonika\n",
    "        area = cv2.contourArea(contour)\n",
    "        # CIFRE, x, y, +\n",
    "        if h > 2 and w > 1 and h < 80 and w < 60 :\n",
    "            # kopirati [y:y+h+1, x:x+w+1] sa binarne slike i smestiti u novu sliku\n",
    "            # označiti region pravougaonikom na originalnoj slici (image_orig) sa rectangle funkcijom\n",
    "            region = image_bin[y:y + h + 1, x:x + w + 1];\n",
    "            regions_dic[x] = resize_region(region)\n",
    "            cv2.rectangle(image_orig, (x, y), (x + w, y + h), (0, 255, 0), 2)\n",
    "            #         # minus\n",
    "\n",
    "    sorted_regions_dic = collections.OrderedDict(sorted(regions_dic.items()))\n",
    "    sorted_regions = sorted_regions_dic.values()\n",
    "\n",
    "    # sortirati sve regione po x osi (sa leva na desno) i smestiti u promenljivu sorted_regions\n",
    "    return image_orig, sorted_regions"
   ]
  },
  {
   "cell_type": "code",
   "execution_count": 4,
   "metadata": {
    "collapsed": true
   },
   "outputs": [],
   "source": [
    "def display_result(outputs, alphabet):\n",
    "    '''\n",
    "    Funkcija određuje koja od grupa predstavlja razmak između reči, a koja između slova, i na osnovu\n",
    "    toga formira string od elemenata pronađenih sa slike.\n",
    "    Args:\n",
    "        outputs: niz izlaza iz neuronske mreže.\n",
    "        alphabet: niz karaktera koje je potrebno prepoznati\n",
    "        kmeans: obučen kmeans objekat\n",
    "    Return:\n",
    "        Vraća formatiran string\n",
    "    '''\n",
    "    # Odrediti indeks grupe koja odgovara rastojanju između reči, pomoću vrednosti iz k_means.cluster_centers_\n",
    "    w_space_group = max(enumerate(k_means.cluster_centers_), key = lambda x: x[1])[0]\n",
    "    result = alphabet[winner(outputs[0])]\n",
    "    for idx, output in enumerate(outputs[1:,:]):\n",
    "        # Iterativno dodavati prepoznate elemente kao u vežbi 2, alphabet[winner(output)]\n",
    "        # Dodati space karakter u slučaju da odgovarajuće rastojanje između dva slova odgovara razmaku između reči.\n",
    "        # U ovu svrhu, koristiti atribut niz k_means.labels_ koji sadrži sortirana rastojanja između susednih slova.\n",
    "        result += alphabet[winner(output)]\n",
    "    return result\n",
    "\n",
    "\n",
    "def display_result1(outputs, alphabet):\n",
    "    '''\n",
    "    Funkcija određuje koja od grupa predstavlja razmak između reči, a koja između slova, i na osnovu\n",
    "    toga formira string od elemenata pronađenih sa slike.\n",
    "    Args:\n",
    "        outputs: niz izlaza iz neuronske mreže.\n",
    "        alphabet: niz karaktera koje je potrebno prepoznati\n",
    "        kmeans: obučen kmeans objekat\n",
    "    Return:\n",
    "        Vraća formatiran string\n",
    "    '''\n",
    "    # Odrediti indeks grupe koja odgovara rastojanju između reči, pomoću vrednosti iz k_means.cluster_centers_\n",
    "    # w_space_group = max(enumerate(k_means.cluster_centers_), key = lambda x: x[1])[0]\n",
    "    result = alphabet[winner(outputs[0])]\n",
    "    for idx, output in enumerate(outputs[1:, :]):\n",
    "        # Iterativno dodavati prepoznate elemente kao u vežbi 2, alphabet[winner(output)]\n",
    "        # Dodati space karakter u slučaju da odgovarajuće rastojanje između dva slova odgovara razmaku između reči.\n",
    "        # U ovu svrhu, koristiti atribut niz k_means.labels_ koji sadrži sortirana rastojanja između susednih slova.\n",
    "        # if (k_means.labels_[idx] == w_space_group):\n",
    "        # result += ' '\n",
    "        result += alphabet[winner(output)]\n",
    "    return result\n"
   ]
  },
  {
   "cell_type": "code",
   "execution_count": 5,
   "metadata": {
    "collapsed": false
   },
   "outputs": [],
   "source": [
    "def create_ann():\n",
    "    '''\n",
    "    Implementirati veštačku neuronsku mrežu sa 28x28 ulaznih neurona i jednim skrivenim slojem od 128 neurona.\n",
    "    Odrediti broj izlaznih neurona. Aktivaciona funkcija je sigmoid.\n",
    "    '''\n",
    "    ann = Sequential()\n",
    "    # Postaviti slojeve neurona mreže 'ann'\n",
    "    ann.add(Dense(128, input_dim=784, activation='sigmoid'))\n",
    "    ann.add(Dense(16, activation='sigmoid'))\n",
    "    return ann\n",
    "    \n",
    "def train_ann(ann, X_train, y_train):\n",
    "    X_train = np.array(X_train, np.float32)\n",
    "    y_train = np.array(y_train, np.float32)\n",
    "   \n",
    "    # definisanje parametra algoritma za obucavanje\n",
    "    sgd = SGD(lr=0.01, momentum=0.9)\n",
    "    ann.compile(loss='mean_squared_error', optimizer=sgd)\n",
    "\n",
    "    # obucavanje neuronske mreze\n",
    "    ann.fit(X_train, y_train, nb_epoch=500, batch_size=1, verbose = 0, shuffle=False) \n",
    "      \n",
    "    return ann"
   ]
  },
  {
   "cell_type": "code",
   "execution_count": 6,
   "metadata": {
    "collapsed": false
   },
   "outputs": [
    {
     "name": "stdout",
     "output_type": "stream",
     "text": [
      "Broj prepoznatih regiona: 16\n"
     ]
    },
    {
     "data": {
      "image/png": "[encoded data removed]",
      "text/plain": [
       "<matplotlib.figure.Figure at 0x7f75547f7ad0>"
      ]
     },
     "metadata": {},
     "output_type": "display_data"
    }
   ],
   "source": [
    "image_color = load_image('images/novo.png')\n",
    "\n",
    "image_test_obucavanje = invert(image_bin(image_gray(image_color)))\n",
    "# img = image_bin(image_gray(image_color))\n",
    "selected_test_obucavanje, letters_obucavanje = select_roi(image_color.copy(), image_test_obucavanje)\n",
    "\n",
    "# selected_regions, letters = select_roi(image_color, img)\n",
    "display_image(selected_test_obucavanje)\n",
    "print ('Broj prepoznatih regiona:', len(letters_obucavanje))"
   ]
  },
  {
   "cell_type": "code",
   "execution_count": 7,
   "metadata": {
    "collapsed": false
   },
   "outputs": [],
   "source": [
    "alphabet = ['1','2','3','4','5','6','7','8','9','0','x','*','/','-','=','+']\n",
    "inputs = prepare_for_ann(letters_obucavanje)\n",
    "outputs = convert_output(alphabet)\n",
    "ann = create_ann()\n"
   ]
  },
  {
   "cell_type": "code",
   "execution_count": 8,
   "metadata": {
    "collapsed": false
   },
   "outputs": [],
   "source": [
    "ann = train_ann(ann, inputs, outputs)"
   ]
  },
  {
   "cell_type": "code",
   "execution_count": 9,
   "metadata": {
    "collapsed": false
   },
   "outputs": [
    {
     "name": "stdout",
     "output_type": "stream",
     "text": [
      "Broj prepoznatih regiona: 7\n"
     ]
    },
    {
     "data": {
      "image/png": "[encoded data removed]",
      "text/plain": [
       "<matplotlib.figure.Figure at 0x7f7539d5ab10>"
      ]
     },
     "metadata": {},
     "output_type": "display_data"
    }
   ],
   "source": [
    "image_color = load_image('images/d.png')\n",
    "\n",
    "image_test_obucavanje = invert(image_bin(image_gray(image_color)))\n",
    "selected_test_obucavanje, letters_obucavanje = select_roi(image_color.copy(), image_test_obucavanje)\n",
    "\n",
    "display_image(selected_test_obucavanje)\n",
    "print ('Broj prepoznatih regiona:', len(letters_obucavanje))"
   ]
  },
  {
   "cell_type": "code",
   "execution_count": 10,
   "metadata": {
    "collapsed": false
   },
   "outputs": [
    {
     "name": "stdout",
     "output_type": "stream",
     "text": [
      "Broj prepoznatih regiona: 7\n"
     ]
    },
    {
     "data": {
      "image/png": "[encoded data removed]",
      "text/plain": [
       "<matplotlib.figure.Figure at 0x7f7539d5a7d0>"
      ]
     },
     "metadata": {},
     "output_type": "display_data"
    }
   ],
   "source": [
    "selected_regions, letters = select_roi(image_color.copy(), image_test_obucavanje)\n",
    "display_image(selected_regions)\n",
    "print('Broj prepoznatih regiona:', len(letters))"
   ]
  },
  {
   "cell_type": "code",
   "execution_count": 11,
   "metadata": {
    "collapsed": false
   },
   "outputs": [
    {
     "name": "stdout",
     "output_type": "stream",
     "text": [
      "2*x-3=5\n"
     ]
    }
   ],
   "source": [
    "inputs = prepare_for_ann(letters)\n",
    "results = ann.predict(np.array(inputs, np.float32))\n",
    "print(display_result1(results, alphabet))"
   ]
  },
  {
   "cell_type": "code",
   "execution_count": 12,
   "metadata": {
    "collapsed": false
   },
   "outputs": [
    {
     "name": "stdout",
     "output_type": "stream",
     "text": [
      "2*X-3=5\n",
      "2.0 -3.0 5.0\n",
      "x = 4.000000\n"
     ]
    }
   ],
   "source": [
    "jednacina = display_result1(results, alphabet)\n",
    "\n",
    "jednacina = ''.join(jednacina.split())\n",
    "jednacina = unicode(jednacina)\n",
    "\n",
    "if \"x\" in jednacina:\n",
    "        jednacina = jednacina.replace(\"x\", \"X\")\n",
    "        \n",
    "print(jednacina)\n",
    "\n",
    "import re\n",
    "def linearna (equ):\n",
    "    fixed = \"\"\n",
    "    \n",
    "    if \"*\" in equ:\n",
    "        if (equ.split()[0][0] == \"-\"): # da li je minus na pocetku\n",
    "            if \"-\" in equ.split(\"=\",1)[1]: # da li je minus posle =\n",
    "                fixed = equ[1:] #skida minus s pocetka\n",
    "                fixed = fixed.split(\"=\",1)[0] # uzima sve pre = \n",
    "                if \"-\" not in fixed: \n",
    "                    match = re.match(r\"(\\-\\d+)\\*X\\+(\\d+)=(\\-\\d+)\", equ)\n",
    "                else:\n",
    "                    match = re.match(r\"(\\-\\d+)\\*X(\\-\\d+)=(\\-\\d+)\", equ)\n",
    "            else:\n",
    "                fixed = equ[1:]\n",
    "                fixed = fixed.split(\"=\",1)[0] \n",
    "                if \"-\" not in fixed: \n",
    "                    match = re.match(r\"(\\-\\d+)\\*X\\+(\\d+)=(\\d+)\", equ)\n",
    "                else:\n",
    "                    match = re.match(r\"(\\-\\d+)\\*X(\\-\\d+)=(\\d+)\", equ)\n",
    "        else:\n",
    "            if \"-\" in equ.split(\"=\",1)[1]:\n",
    "                fixed = equ[1:]\n",
    "                fixed = fixed.split(\"=\",1)[0]\n",
    "                if \"-\" not in fixed: \n",
    "                    match = re.match(r\"(\\d+)\\*X\\+(\\d+)=(\\-\\d+)\", equ)\n",
    "                else: \n",
    "                    match = re.match(r\"(\\d+)\\*X(\\-\\d+)=(\\-\\d+)\", equ)\n",
    "            else:\n",
    "                fixed = equ[1:]\n",
    "                fixed = fixed.split(\"=\",1)[0]\n",
    "                if \"-\" not in fixed: \n",
    "                    match = re.match(r\"(\\d+)\\*X\\+(\\d+)=(\\d+)\", equ)\n",
    "                else: \n",
    "                    match = re.match(r\"(\\d+)\\*X(\\-\\d+)=(\\d+)\", equ)\n",
    "    else:\n",
    "        if (equ.split()[0][0] == \"-\"):\n",
    "            if \"-\" in equ.split(\"=\",1)[1]:\n",
    "                fixed = equ[1:]\n",
    "                fixed = fixed.split(\"=\",1)[0]\n",
    "                if \"-\" not in fixed: \n",
    "                    match = re.match(r\"(\\-\\d+)X\\+(\\d+)=(\\-\\d+)\", equ)\n",
    "                else:\n",
    "                    match = re.match(r\"(\\-\\d+)X(\\-\\d+)=(\\-\\d+)\", equ)\n",
    "            else:\n",
    "                fixed = equ[1:]\n",
    "                fixed = fixed.split(\"=\",1)[0]\n",
    "                if \"-\" not in fixed: \n",
    "                    match = re.match(r\"(\\-\\d+)X\\+(\\d+)=(\\d+)\", equ)\n",
    "                else:\n",
    "                    match = re.match(r\"(\\-\\d+)X(\\-\\d+)=(\\d+)\", equ)\n",
    "        else:\n",
    "            if \"-\" in equ.split(\"=\",1)[1]:\n",
    "                fixed = equ[1:]\n",
    "                fixed = fixed.split(\"=\",1)[0]\n",
    "                if \"-\" not in fixed: \n",
    "                    match = re.match(r\"(\\d+)X\\+(\\d+)=(\\-\\d+)\", equ)\n",
    "                else: \n",
    "                    match = re.match(r\"(\\d+)X(\\-\\d+)=(\\-\\d+)\", equ)\n",
    "            else:\n",
    "                fixed = equ[1:]\n",
    "                fixed = fixed.split(\"=\",1)[0]\n",
    "                if \"-\" not in fixed: \n",
    "                    match = re.match(r\"(\\d+)X\\+(\\d+)=(\\d+)\", equ)\n",
    "                else: \n",
    "                    match = re.match(r\"(\\d+)X(\\-\\d+)=(\\d+)\", equ)\n",
    "\n",
    "    m, c, y = match.groups()\n",
    "    m, c, y = float(m), float(c), float(y) # Convert from strings to numbers\n",
    "    print(m,c,y)\n",
    "    X = (y-c)/m\n",
    "    print (\"x = %f\" % X)\n",
    "    \n",
    "def kvadratna(j):\n",
    "    lista = []\n",
    "\n",
    "    for index, char in enumerate(j):\n",
    "        s = char.decode('ascii', 'ignore').encode('ascii')\n",
    "        if unicode(s,'utf-8').isnumeric():\n",
    "            if(j[index-1] == \"x\" or j[index-1] == \"X\"):\n",
    "                continue\n",
    "            else:\n",
    "                if j[index-1] == \"-\" or j[index-1] == \"—\":\n",
    "                    a = float(char)\n",
    "                    a = -a\n",
    "                    lista.append(a)\n",
    "                elif(j[index-1] == \"=\"):\n",
    "                    continue\n",
    "                else:\n",
    "                    lista.append(float(char))\n",
    "                \n",
    "    \n",
    "    import cmath\n",
    "\n",
    "    if j.split()[0][0] == \"x\" or j.split()[0][0] == \"X\":\n",
    "        a = 1\n",
    "        b= lista[0]\n",
    "        c=lista[1]\n",
    "    else:\n",
    "        a = lista[0] \n",
    "        b= lista[1]\n",
    "        c=lista[2]\n",
    "\n",
    "    delta = (b**2) - (4*a*c)\n",
    "    solution1 = (-b-cmath.sqrt(delta))/(2*a)\n",
    "    solution2 = (-b+cmath.sqrt(delta))/(2*a)\n",
    "\n",
    "    print('Resenja su {0} i {1}'.format(solution1,solution2))\n",
    "    \n",
    "\n",
    "\n",
    "\n",
    "if(jednacina.count('X') == 2):\n",
    "    kvadratna(jednacina)\n",
    "else:\n",
    "    linearna(jednacina)"
   ]
  },
  {
   "cell_type": "code",
   "execution_count": null,
   "metadata": {
    "collapsed": true
   },
   "outputs": [],
   "source": []
  }
 ],
 "metadata": {
  "kernelspec": {
   "display_name": "Python 2",
   "language": "python",
   "name": "python2"
  },
  "language_info": {
   "codemirror_mode": {
    "name": "ipython",
    "version": 2
   },
   "file_extension": ".py",
   "mimetype": "text/x-python",
   "name": "python",
   "nbconvert_exporter": "python",
   "pygments_lexer": "ipython2",
   "version": "2.7.13"
  }
 },
 "nbformat": 4,
 "nbformat_minor": 0
}
